{
 "cells": [
  {
   "cell_type": "code",
   "execution_count": 106,
   "metadata": {},
   "outputs": [],
   "source": [
    "import cv2\n",
    "import numpy as np"
   ]
  },
  {
   "cell_type": "code",
   "execution_count": 107,
   "metadata": {},
   "outputs": [],
   "source": [
    "size = (1282, 1110)"
   ]
  },
  {
   "cell_type": "code",
   "execution_count": 108,
   "metadata": {},
   "outputs": [],
   "source": [
    "img = cv2.imread('data/disp5.png')"
   ]
  },
  {
   "cell_type": "code",
   "execution_count": 109,
   "metadata": {},
   "outputs": [],
   "source": [
    "gray = cv2.cvtColor(img, cv2.COLOR_BGR2GRAY)"
   ]
  },
  {
   "cell_type": "code",
   "execution_count": 110,
   "metadata": {},
   "outputs": [],
   "source": [
    "def mse(A, B):\n",
    "    return np.square(np.subtract(A,B)).mean()"
   ]
  },
  {
   "cell_type": "code",
   "execution_count": 111,
   "metadata": {},
   "outputs": [],
   "source": [
    "def K(a, b):\n",
    "    prop = 0\n",
    "    for x in (a, b):\n",
    "        if x > prop and prop < 255:\n",
    "            prop = x\n",
    "    return prop"
   ]
  },
  {
   "cell_type": "code",
   "execution_count": 112,
   "metadata": {},
   "outputs": [],
   "source": [
    "def reconstruct(I, J):\n",
    "    ng_plus = [(-1, -1), (-1, 0), (-1, 1), (0, -1)]\n",
    "    ng_minus = [(1, -1), (1, 0), (1, 1), (0, 1)]\n",
    "    \n",
    "    changed = True\n",
    "    it = 0\n",
    "    while True:\n",
    "        print('it =', it)\n",
    "        it += 1\n",
    "        \n",
    "        oldJ = J\n",
    "        for i in range(size[1]):\n",
    "            for j in range(size[0]):\n",
    "                aux = J[i, j]\n",
    "                for dx, dy in ng_plus:\n",
    "                    if (0 <= i + dx < size[1]) and (0 <= j + dy < size[0]):\n",
    "                        aux = min(aux, J[i + dx, j + dy])\n",
    "                J[i, j] = K(aux, I[i, j])\n",
    "        \n",
    "        for i in range(size[1] - 1, -1, -1):\n",
    "            for j in range(size[0] - 1, -1, -1):\n",
    "                aux = J[i, j]\n",
    "                for dx, dy in ng_minus:\n",
    "                    if (0 <= i + dx < size[1]) and (0 <= j + dy < size[0]):\n",
    "                        aux = min(aux, J[i + dx, j + dy])\n",
    "                J[i, j] = K(aux, I[i, j])\n",
    "        if (J - oldJ).max() == 0:\n",
    "            break\n",
    "    return J    "
   ]
  },
  {
   "cell_type": "code",
   "execution_count": 114,
   "metadata": {},
   "outputs": [],
   "source": [
    "def restore(pic):\n",
    "    lam = 1\n",
    "    kernel = np.ones((5,5),np.uint8)\n",
    "    res = cv2.morphologyEx(pic, cv2.MORPH_CLOSE, kernel)\n",
    "    print(res.shape)\n",
    "    \n",
    "    while np.count_nonzero(res == 0) > 0:\n",
    "        print(np.count_nonzero(res == 0))\n",
    "        print('lam', lam)\n",
    "        kernel = np.ones((lam, lam), np.uint8)\n",
    "        marker = cv2.morphologyEx(res, cv2.MORPH_DILATE, kernel)\n",
    "        \n",
    "        g = reconstruct(pic, marker)\n",
    "        res[res == 0] = g[res == 0]\n",
    "        \n",
    "        cv2.imwrite('res5/res' + str(lam) + '.png', res)\n",
    "        lam += 1\n",
    "    return res"
   ]
  },
  {
   "cell_type": "code",
   "execution_count": 72,
   "metadata": {},
   "outputs": [],
   "source": [
    "kernel = np.ones((5,5),np.uint8)\n",
    "marker = cv2.morphologyEx(gray, cv2.MORPH_DILATE, kernel)"
   ]
  },
  {
   "cell_type": "code",
   "execution_count": 115,
   "metadata": {},
   "outputs": [
    {
     "name": "stdout",
     "output_type": "stream",
     "text": [
      "(1110, 1282)\n",
      "40787\n",
      "lam 1\n",
      "it = 0\n",
      "40787\n",
      "lam 2\n",
      "it = 0\n",
      "40787\n",
      "lam 3\n",
      "it = 0\n",
      "40787\n",
      "lam 4\n",
      "it = 0\n",
      "40787\n",
      "lam 5\n",
      "it = 0\n",
      "40787\n",
      "lam 6\n",
      "it = 0\n",
      "40362\n",
      "lam 7\n",
      "it = 0\n",
      "40177\n",
      "lam 8\n",
      "it = 0\n",
      "39934\n",
      "lam 9\n",
      "it = 0\n",
      "39449\n",
      "lam 10\n",
      "it = 0\n",
      "39289\n",
      "lam 11\n",
      "it = 0\n",
      "39289\n",
      "lam 12\n",
      "it = 0\n",
      "39282\n",
      "lam 13\n",
      "it = 0\n",
      "38875\n",
      "lam 14\n",
      "it = 0\n",
      "38294\n",
      "lam 15\n",
      "it = 0\n",
      "38258\n",
      "lam 16\n",
      "it = 0\n",
      "34285\n",
      "lam 17\n",
      "it = 0\n",
      "34285\n",
      "lam 18\n",
      "it = 0\n",
      "34233\n",
      "lam 19\n",
      "it = 0\n",
      "33578\n",
      "lam 20\n",
      "it = 0\n",
      "29275\n",
      "lam 21\n",
      "it = 0\n",
      "29230\n",
      "lam 22\n",
      "it = 0\n",
      "29174\n",
      "lam 23\n",
      "it = 0\n",
      "29119\n",
      "lam 24\n",
      "it = 0\n",
      "24183\n",
      "lam 25\n",
      "it = 0\n",
      "24183\n",
      "lam 26\n",
      "it = 0\n",
      "24020\n",
      "lam 27\n",
      "it = 0\n",
      "24020\n",
      "lam 28\n",
      "it = 0\n",
      "24020\n",
      "lam 29\n",
      "it = 0\n",
      "23928\n",
      "lam 30\n",
      "it = 0\n",
      "23715\n",
      "lam 31\n",
      "it = 0\n",
      "23715\n",
      "lam 32\n",
      "it = 0\n",
      "13516\n",
      "lam 33\n",
      "it = 0\n",
      "13516\n",
      "lam 34\n",
      "it = 0\n",
      "4504\n",
      "lam 35\n",
      "it = 0\n",
      "4504\n",
      "lam 36\n",
      "it = 0\n",
      "4504\n",
      "lam 37\n",
      "it = 0\n",
      "4504\n",
      "lam 38\n",
      "it = 0\n",
      "4504\n",
      "lam 39\n",
      "it = 0\n",
      "4504\n",
      "lam 40\n",
      "it = 0\n",
      "4504\n",
      "lam 41\n",
      "it = 0\n",
      "4504\n",
      "lam 42\n",
      "it = 0\n",
      "4504\n",
      "lam 43\n",
      "it = 0\n",
      "4504\n",
      "lam 44\n",
      "it = 0\n",
      "4504\n",
      "lam 45\n",
      "it = 0\n",
      "4504\n",
      "lam 46\n",
      "it = 0\n",
      "4504\n",
      "lam 47\n",
      "it = 0\n",
      "4504\n",
      "lam 48\n",
      "it = 0\n"
     ]
    }
   ],
   "source": [
    "rec = restore(gray)"
   ]
  },
  {
   "cell_type": "code",
   "execution_count": 76,
   "metadata": {},
   "outputs": [
    {
     "name": "stdout",
     "output_type": "stream",
     "text": [
      "0.2756384309426431\n"
     ]
    }
   ],
   "source": [
    "print(mse(rec, gray))"
   ]
  },
  {
   "cell_type": "code",
   "execution_count": 77,
   "metadata": {},
   "outputs": [
    {
     "data": {
      "text/plain": [
       "True"
      ]
     },
     "execution_count": 77,
     "metadata": {},
     "output_type": "execute_result"
    }
   ],
   "source": [
    "cv2.imwrite('res/rec.png', rec)"
   ]
  }
 ],
 "metadata": {
  "kernelspec": {
   "display_name": "Python 3",
   "language": "python",
   "name": "python3"
  },
  "language_info": {
   "codemirror_mode": {
    "name": "ipython",
    "version": 3
   },
   "file_extension": ".py",
   "mimetype": "text/x-python",
   "name": "python",
   "nbconvert_exporter": "python",
   "pygments_lexer": "ipython3",
   "version": "3.7.3"
  }
 },
 "nbformat": 4,
 "nbformat_minor": 2
}
